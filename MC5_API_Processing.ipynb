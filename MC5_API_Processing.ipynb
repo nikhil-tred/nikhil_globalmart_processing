{
 "cells": [
  {
   "cell_type": "code",
   "execution_count": 1,
   "id": "b5978d38",
   "metadata": {},
   "outputs": [],
   "source": [
    "import requests"
   ]
  },
  {
   "cell_type": "code",
   "execution_count": null,
   "id": "5c6a5d86",
   "metadata": {},
   "outputs": [],
   "source": [
    "# Send a GET request to a website and get the response\n",
    "#    response = requests.get('https://www.example.com')\n",
    "\n",
    "# Check the content of the response (HTML content in this case)\n",
    "#    print(\"Content:\", response.text)\n",
    "\n",
    "# fetch the content\n",
    "#    data = response.json()\n",
    "\n",
    "#        type(data) # dict"
   ]
  },
  {
   "cell_type": "code",
   "execution_count": 13,
   "id": "c72baf3d",
   "metadata": {},
   "outputs": [],
   "source": [
    "response = requests.get('https://globalmart-api.onrender.com/')"
   ]
  },
  {
   "cell_type": "code",
   "execution_count": 14,
   "id": "ff020159",
   "metadata": {},
   "outputs": [
    {
     "data": {
      "text/plain": [
       "200"
      ]
     },
     "execution_count": 14,
     "metadata": {},
     "output_type": "execute_result"
    }
   ],
   "source": [
    "response.status_code\n",
    "\n",
    "# .status_code returned a 200, which means your request was successful. \n",
    "#  The server responded with the data you were requesting.\n",
    "#   https://realpython.com/python-requests/\n",
    "\n",
    "#    1XX\tINFORMATIONAL\n",
    "#    2XX\tSUCCESS\n",
    "#    3XX\tREDIRECTION\n",
    "#    4XX\tCLIENT ERROR\n",
    "#    5XX\tSERVER ERROR "
   ]
  },
  {
   "cell_type": "code",
   "execution_count": 21,
   "id": "0b67385d",
   "metadata": {},
   "outputs": [
    {
     "data": {
      "text/plain": [
       "requests.models.Response"
      ]
     },
     "execution_count": 21,
     "metadata": {},
     "output_type": "execute_result"
    }
   ],
   "source": [
    "type(response)"
   ]
  },
  {
   "cell_type": "code",
   "execution_count": 17,
   "id": "97f61f53",
   "metadata": {},
   "outputs": [
    {
     "data": {
      "text/plain": [
       "b'\\n        <h1> Endpoints: </h1>\\n        <font size=5px>\\n        <ol>\\n            <li> Document Endpoint: <b><u><a href=\"/docs\">/docs</a></u></b>\\n            <li> API Endpoint: <b><u><a href=\"/mentorskool/v1/sales\">/mentorskool/v1/sales<a></u></b>\\n            <li> Readable Document: <b><u><a href=\"/redoc\">/redoc</a></u></b>\\n        </ol>\\n        </font>\\n    '"
      ]
     },
     "execution_count": 17,
     "metadata": {},
     "output_type": "execute_result"
    }
   ],
   "source": [
    "response.content"
   ]
  },
  {
   "cell_type": "code",
   "execution_count": 18,
   "id": "fcdd75be",
   "metadata": {},
   "outputs": [
    {
     "data": {
      "text/plain": [
       "'\\n        <h1> Endpoints: </h1>\\n        <font size=5px>\\n        <ol>\\n            <li> Document Endpoint: <b><u><a href=\"/docs\">/docs</a></u></b>\\n            <li> API Endpoint: <b><u><a href=\"/mentorskool/v1/sales\">/mentorskool/v1/sales<a></u></b>\\n            <li> Readable Document: <b><u><a href=\"/redoc\">/redoc</a></u></b>\\n        </ol>\\n        </font>\\n    '"
      ]
     },
     "execution_count": 18,
     "metadata": {},
     "output_type": "execute_result"
    }
   ],
   "source": [
    "response.text"
   ]
  },
  {
   "cell_type": "code",
   "execution_count": 20,
   "id": "39405455",
   "metadata": {},
   "outputs": [
    {
     "data": {
      "text/plain": [
       "{'Date': 'Wed, 02 Aug 2023 05:58:00 GMT', 'Content-Type': 'text/html; charset=utf-8', 'Transfer-Encoding': 'chunked', 'Connection': 'keep-alive', 'CF-Ray': '7f04162b1f854973-SIN', 'CF-Cache-Status': 'DYNAMIC', 'Vary': 'Accept-Encoding', 'x-render-origin-server': 'uvicorn', 'Server': 'cloudflare', 'Content-Encoding': 'br', 'alt-svc': 'h3=\":443\"; ma=86400'}"
      ]
     },
     "execution_count": 20,
     "metadata": {},
     "output_type": "execute_result"
    }
   ],
   "source": [
    "response.headers"
   ]
  },
  {
   "cell_type": "code",
   "execution_count": 27,
   "id": "35548048",
   "metadata": {},
   "outputs": [
    {
     "data": {
      "text/plain": [
       "<Response [404]>"
      ]
     },
     "execution_count": 27,
     "metadata": {},
     "output_type": "execute_result"
    }
   ],
   "source": [
    "requests.get(\n",
    "     'https://globalmart-api.onrender.com/mentorskool/v1/sale',\n",
    "     params=[('q', 'requests+language:python')],\n",
    " )"
   ]
  },
  {
   "cell_type": "code",
   "execution_count": 24,
   "id": "5f2a65bb",
   "metadata": {},
   "outputs": [
    {
     "data": {
      "text/plain": [
       "<Response [405]>"
      ]
     },
     "execution_count": 24,
     "metadata": {},
     "output_type": "execute_result"
    }
   ],
   "source": [
    "requests.delete('https://globalmart-api.onrender.com/', data={'Date':'Nikhil Testing Post command'})"
   ]
  },
  {
   "cell_type": "code",
   "execution_count": 44,
   "id": "9fb495fb",
   "metadata": {},
   "outputs": [],
   "source": [
    "response = requests.get('https://zucwflxqsxrsmwseehqvjmnx2u0cdigp.lambda-url.ap-south-1.on.aws/mentorskool/v1/sales', headers = {\"access_token\":\"fe66583bfe5185048c66571293e0d358\"}, params = {\"offset\":30})"
   ]
  },
  {
   "cell_type": "code",
   "execution_count": 45,
   "id": "00ec2ca4",
   "metadata": {},
   "outputs": [
    {
     "data": {
      "text/plain": [
       "<Response [200]>"
      ]
     },
     "execution_count": 45,
     "metadata": {},
     "output_type": "execute_result"
    }
   ],
   "source": [
    "response"
   ]
  },
  {
   "cell_type": "code",
   "execution_count": 46,
   "id": "c24c3af0",
   "metadata": {},
   "outputs": [
    {
     "name": "stdout",
     "output_type": "stream",
     "text": [
      "{'data': [{'id': 7244, 'sales_amt': 124.2, 'qty': 3, 'discount': 0.2, 'profit_amt': 15.525, 'order': {'order_id': 'CA-2017-118892', 'ship_mode': 'Second Class', 'order_status': 'delivered', 'order_purchase_date': '2018-07-03 10:30:00', 'order_approved_at': '2018-07-05 16:40', 'order_delivered_carrier_date': '2018-07-03 13:12', 'order_delivered_customer_date': '2018-07-04 22:42', 'order_estimated_delivery_date': '2018-07-16', 'customer': {'customer_id': 'TP-21415', 'customer_name': 'Tom Prescott', 'segment': 'Consumer', 'contact_number': '+1 320-511-1041', 'address': {'zip_code': 90036, 'region': 'West', 'country': 'United States', 'city': 'los angeles', 'state': 'california'}}, 'vendor': {'VendorID': 'VEN02', 'Vendor Name': 'Seaborne Ltd.'}}, 'product': {'product_id': 'FUR-FU-10004848', 'product_name': 'Howard Miller 13-3/4\" Diameter Brushed Chrome Round Wall Clock', 'colors': 'Blue', 'category': 'Furniture', 'sub_category': 'Furnishings', 'date_added': '2016-04-14', 'manufacturer': 'null', 'sizes': 'null', 'upc': 155000000000, 'weight': 'null', 'product_photos_qty': 2}}, {'id': 9742, 'sales_amt': 3.264, 'qty': 2, 'discount': 0.2, 'profit_amt': 1.1016, 'order': {'order_id': 'CA-2015-117086', 'ship_mode': 'Standard Class', 'order_status': 'delivered', 'order_purchase_date': '2018-03-28 16:16:00', 'order_approved_at': '2018-03-30 03:08', 'order_delivered_carrier_date': '2018-04-02 22:21', 'order_delivered_customer_date': '2018-04-03 15:04', 'order_estimated_delivery_date': '2018-04-10', 'customer': {'customer_id': 'QJ-19255', 'customer_name': 'Quincy Jones', 'segment': 'Corporate', 'contact_number': '+1 206-578-2372', 'address': {'zip_code': 33065, 'region': 'South', 'country': 'United States', 'city': 'coral springs', 'state': 'florida'}}, 'vendor': {'VendorID': 'VEN02', 'Vendor Name': 'Seaborne Ltd.'}}, 'product': {'product_id': 'OFF-EN-10001509', 'product_name': 'Poly String Tie Envelopes', 'colors': 'Blue', 'category': 'Office Supplies', 'sub_category': 'Envelopes', 'date_added': '2016-11-15', 'manufacturer': 'New Balance', 'sizes': '7,7.5,15,11.5,8,13,14,12.5,9', 'upc': 890000000000, 'weight': 'null', 'product_photos_qty': 6}}, {'id': 4298, 'sales_amt': 86.304, 'qty': 6, 'discount': 0.2, 'profit_amt': 9.7092, 'order': {'order_id': 'CA-2017-129021', 'ship_mode': 'Second Class', 'order_status': 'delivered', 'order_purchase_date': '2017-12-05 09:18:00', 'order_approved_at': '2017-12-06 02:50', 'order_delivered_carrier_date': '2017-12-06 19:51', 'order_delivered_customer_date': '2017-12-15 17:11', 'order_estimated_delivery_date': '2018-01-04', 'customer': {'customer_id': 'PO-18850', 'customer_name': \"Patrick O'Brill\", 'segment': 'Consumer', 'contact_number': '+1 505-706-9275', 'address': {'zip_code': 33180, 'region': 'South', 'country': 'United States', 'city': 'miami', 'state': 'florida'}}, 'vendor': {'VendorID': 'VEN01', 'Vendor Name': 'Velocity Logistics'}}, 'product': {'product_id': 'OFF-AR-10004042', 'product_name': 'BOSTON Model 1800 Electric Pencil Sharpeners, Putty/Woodgrain', 'colors': 'Blue', 'category': 'Office Supplies', 'sub_category': 'Art', 'date_added': '2016-10-05', 'manufacturer': 'Italian Shoe Makers', 'sizes': 'null', 'upc': 'null', 'weight': 'null', 'product_photos_qty': 2}}, {'id': 354, 'sales_amt': 6.858, 'qty': 6, 'discount': 0.7, 'profit_amt': -5.715, 'order': {'order_id': 'CA-2016-129714', 'ship_mode': 'First Class', 'order_status': 'delivered', 'order_purchase_date': '2018-08-07 08:08:00', 'order_approved_at': '2018-08-07 08:44', 'order_delivered_carrier_date': '2018-08-08 13:06', 'order_delivered_customer_date': '2018-08-13 17:36', 'order_estimated_delivery_date': '2018-08-24', 'customer': {'customer_id': 'AB-10060', 'customer_name': 'Adam Bellavance', 'segment': 'Home Office', 'contact_number': '+1 206-431-9519', 'address': {'zip_code': 85204, 'region': 'West', 'country': 'United States', 'city': 'mesa', 'state': 'arizona'}}, 'vendor': {'VendorID': 'VEN04', 'Vendor Name': 'Johnsons Logistics'}}, 'product': {'product_id': 'OFF-BI-10001525', 'product_name': 'Acco Pressboard Covers with Storage Hooks, 14 7/8\" x 11\", Executive Red', 'colors': 'Blue', 'category': 'Office Supplies', 'sub_category': 'Binders', 'date_added': '2017-01-27', 'manufacturer': 'null', 'sizes': '11.5,11,12', 'upc': 888000000000, 'weight': 'null', 'product_photos_qty': 2}}, {'id': 9271, 'sales_amt': 15.76, 'qty': 2, 'discount': 0.2, 'profit_amt': 3.546, 'order': {'order_id': 'US-2017-102183', 'ship_mode': 'Standard Class', 'order_status': 'delivered', 'order_purchase_date': '2017-11-28 00:37:00', 'order_approved_at': '2017-11-28 01:31', 'order_delivered_carrier_date': '2017-11-29 19:10', 'order_delivered_customer_date': '2017-12-06 17:57', 'order_estimated_delivery_date': '2017-12-18', 'customer': {'customer_id': 'PK-19075', 'customer_name': 'Pete Kriz', 'segment': 'Consumer', 'contact_number': '+1 213-609-2584', 'address': {'zip_code': 80027, 'region': 'West', 'country': 'United States', 'city': 'louisville', 'state': 'colorado'}}, 'vendor': {'VendorID': 'VEN01', 'Vendor Name': 'Velocity Logistics'}}, 'product': {'product_id': 'OFF-AR-10001683', 'product_name': 'Lumber Crayons', 'colors': 'Blue', 'category': 'Office Supplies', 'sub_category': 'Art', 'date_added': '2016-03-23', 'manufacturer': 'null', 'sizes': 'null', 'upc': 'null', 'weight': 'null', 'product_photos_qty': 0}}, {'id': 9640, 'sales_amt': 29.472, 'qty': 3, 'discount': 0.2, 'profit_amt': 9.9468, 'order': {'order_id': 'CA-2015-116638', 'ship_mode': 'Second Class', 'order_status': 'delivered', 'order_purchase_date': '2017-07-17 16:18:00', 'order_approved_at': '2017-07-17 16:35', 'order_delivered_carrier_date': '2017-07-24 17:39', 'order_delivered_customer_date': '2017-07-31 21:10', 'order_estimated_delivery_date': '2017-08-11', 'customer': {'customer_id': 'JH-15985', 'customer_name': 'Joseph Holt', 'segment': 'Consumer', 'contact_number': '+1 518-230-5699', 'address': {'zip_code': 73120, 'region': 'Central', 'country': 'United States', 'city': 'oklahoma city', 'state': 'oklahoma'}}, 'vendor': {'VendorID': 'VEN02', 'Vendor Name': 'Seaborne Ltd.'}}, 'product': {'product_id': 'OFF-PA-10000249', 'product_name': 'Easy-staple paper', 'colors': 'Blue', 'category': 'Office Supplies', 'sub_category': 'Paper', 'date_added': '2017-01-09', 'manufacturer': 'null', 'sizes': '8.5,10,6,9.5,6.5,8', 'upc': 41969077931, 'weight': 'null', 'product_photos_qty': 0}}, {'id': 5918, 'sales_amt': 1097.544, 'qty': 7, 'discount': 0.2, 'profit_amt': 123.4737, 'order': {'order_id': 'US-2015-126977', 'ship_mode': 'Standard Class', 'order_status': 'delivered', 'order_purchase_date': '2018-06-16 18:31:00', 'order_approved_at': '2018-06-16 18:57', 'order_delivered_carrier_date': '2018-06-19 15:10', 'order_delivered_customer_date': '2018-06-21 17:48', 'order_estimated_delivery_date': '2018-06-29', 'customer': {'customer_id': 'PF-19120', 'customer_name': 'Peter Fuller', 'segment': 'Consumer', 'contact_number': '+1 505-927-6698', 'address': {'zip_code': 74012, 'region': 'Central', 'country': 'United States', 'city': 'broken arrow', 'state': 'oklahoma'}}, 'vendor': {'VendorID': 'VEN03', 'Vendor Name': 'Voyage Enterprises'}}, 'product': {'product_id': 'TEC-PH-10004977', 'product_name': 'GE 30524EE4', 'colors': 'Pink', 'category': 'Technology', 'sub_category': 'Phones', 'date_added': '2016-10-05', 'manufacturer': 'Kenneth Cole Reaction', 'sizes': 'null', 'upc': 888000000000, 'weight': 'null', 'product_photos_qty': 1}}, {'id': 3281, 'sales_amt': 190.92, 'qty': 5, 'discount': 0.6, 'profit_amt': -147.963, 'order': {'order_id': 'CA-2014-102988', 'ship_mode': 'Second Class', 'order_status': 'delivered', 'order_purchase_date': '2017-07-18 15:49:00', 'order_approved_at': '2017-07-18 16:03', 'order_delivered_carrier_date': '2017-07-20 13:13', 'order_delivered_customer_date': '2017-08-03 20:03', 'order_estimated_delivery_date': '2017-08-11', 'customer': {'customer_id': 'GM-14695', 'customer_name': 'Greg Maxwell', 'segment': 'Corporate', 'contact_number': '+1 430-843-9872', 'address': {'zip_code': 98103, 'region': 'West', 'country': 'United States', 'city': 'seattle', 'state': 'washington'}}, 'vendor': {'VendorID': 'VEN05', 'Vendor Name': 'Seahawk Logistics'}}, 'product': {'product_id': 'FUR-FU-10003664', 'product_name': \"Electrix Architect's Clamp-On Swing Arm Lamp, Black\", 'colors': 'Black', 'category': 'Furniture', 'sub_category': 'Furnishings', 'date_added': '2016-04-01', 'manufacturer': 'null', 'sizes': 'null', 'upc': 601000000000, 'weight': 'null', 'product_photos_qty': 4}}, {'id': 6621, 'sales_amt': 113.328, 'qty': 9, 'discount': 0.2, 'profit_amt': 35.415, 'order': {'order_id': 'US-2017-167402', 'ship_mode': 'Second Class', 'order_status': 'delivered', 'order_purchase_date': '2017-11-12 21:43:00', 'order_approved_at': '2017-11-12 21:55', 'order_delivered_carrier_date': '2017-11-16 17:06', 'order_delivered_customer_date': '2017-11-28 17:21', 'order_estimated_delivery_date': '2017-11-27', 'customer': {'customer_id': 'CP-12085', 'customer_name': 'Cathy Prescott', 'segment': 'Corporate', 'contact_number': '+1 505-577-5778', 'address': {'zip_code': 94122, 'region': 'West', 'country': 'United States', 'city': 'san francisco', 'state': 'california  '}}, 'vendor': {'VendorID': 'VEN02', 'Vendor Name': 'Seaborne Ltd.'}}, 'product': {'product_id': 'OFF-EN-10002986', 'product_name': '#10-4 1/8\" x 9 1/2\" Premium Diagonal Seam Envelopes', 'colors': 'Black', 'category': 'Office Supplies', 'sub_category': 'Envelopes', 'date_added': '2015-12-01', 'manufacturer': 'null', 'sizes': 'null', 'upc': 'null', 'weight': 'null', 'product_photos_qty': 2}}, {'id': 6015, 'sales_amt': 532.3992, 'qty': 3, 'discount': 0.32, 'profit_amt': -46.9764, 'order': {'order_id': 'CA-2016-159016', 'ship_mode': 'First Class', 'order_status': 'delivered', 'order_purchase_date': '2017-07-28 11:25:00', 'order_approved_at': '2017-07-28 11:35', 'order_delivered_carrier_date': '2017-07-28 19:58', 'order_delivered_customer_date': '2017-08-07 20:41', 'order_estimated_delivery_date': '2017-08-17', 'customer': {'customer_id': 'KF-16285', 'customer_name': 'Karen Ferguson', 'segment': 'Home Office', 'contact_number': '+1 231-747-3480', 'address': {'zip_code': 93727, 'region': 'West', 'country': 'United States', 'city': 'fresno', 'state': 'california'}}, 'vendor': {'VendorID': 'VEN03', 'Vendor Name': 'Voyage Enterprises'}}, 'product': {'product_id': 'FUR-BO-10002545', 'product_name': 'Atlantic Metals Mobile 3-Shelf Bookcases, Custom Colors', 'colors': 'Blue', 'category': 'Furniture', 'sub_category': 'Bookcases', 'date_added': '2016-10-05', 'manufacturer': 'Jordan', 'sizes': '10,10.5,11,11.5,12,13,14,8,8.5,9,9.5', 'upc': 887000000000, 'weight': 'null', 'product_photos_qty': 0}}, {'id': 6536, 'sales_amt': 212.058, 'qty': 3, 'discount': 0.3, 'profit_amt': -15.147, 'order': {'order_id': 'CA-2014-128209', 'ship_mode': 'Standard Class', 'order_status': 'delivered', 'order_purchase_date': '2018-06-30 12:14:00', 'order_approved_at': '2018-07-05 16:27', 'order_delivered_carrier_date': '2018-07-03 10:18', 'order_delivered_customer_date': '2018-07-11 14:52', 'order_estimated_delivery_date': '2018-08-01', 'customer': {'customer_id': 'GT-14710', 'customer_name': 'Greg Tran', 'segment': 'Consumer', 'contact_number': '+1 582-333-5365', 'address': {'zip_code': 78745, 'region': 'Central', 'country': 'United States', 'city': 'austin', 'state': 'texas'}}, 'vendor': {'VendorID': 'VEN02', 'Vendor Name': 'Seaborne Ltd.'}}, 'product': {'product_id': 'FUR-CH-10004218', 'product_name': \"Global Fabric Manager's Chair, Dark Gray\", 'colors': 'Blue', 'category': 'Furniture', 'sub_category': 'Chairs', 'date_added': '2017-01-12', 'manufacturer': 'Nike', 'sizes': 'null', 'upc': 91207259940, 'weight': 'null', 'product_photos_qty': 0}}, {'id': 2183, 'sales_amt': 371.168, 'qty': 4, 'discount': 0.2, 'profit_amt': 41.7564, 'order': {'order_id': 'CA-2016-128818', 'ship_mode': 'Standard Class', 'order_status': 'delivered', 'order_purchase_date': '2018-06-27 10:16:00', 'order_approved_at': '2018-06-27 11:06', 'order_delivered_carrier_date': '2018-06-27 11:42', 'order_delivered_customer_date': '2018-06-28 17:51', 'order_estimated_delivery_date': '2018-07-12', 'customer': {'customer_id': 'CJ-12010', 'customer_name': 'Caroline Jumper', 'segment': 'Consumer', 'contact_number': '+1 318-841-2201', 'address': {'zip_code': 23666, 'region': 'South', 'country': 'United States', 'city': 'hampton', 'state': 'virginia'}}, 'vendor': {'VendorID': 'VEN04', 'Vendor Name': 'Johnsons Logistics'}}, 'product': {'product_id': 'TEC-PH-10000486', 'product_name': 'Plantronics HL10 Handset Lifter', 'colors': 'Blue', 'category': 'Technology', 'sub_category': 'Phones', 'date_added': '2016-08-27', 'manufacturer': 'SNEED', 'sizes': 'null', 'upc': 'null', 'weight': '599 g', 'product_photos_qty': 2}}, {'id': 319, 'sales_amt': 147.168, 'qty': 4, 'discount': 0.2, 'profit_amt': 16.5564, 'order': {'order_id': 'CA-2014-164973', 'ship_mode': 'Standard Class', 'order_status': 'delivered', 'order_purchase_date': '2017-03-01 22:03:00', 'order_approved_at': '2017-03-03 02:15', 'order_delivered_carrier_date': '2017-03-03 11:35', 'order_delivered_customer_date': '2017-03-13 11:52', 'order_estimated_delivery_date': '2017-04-05', 'customer': {'customer_id': 'NM-18445', 'customer_name': 'Nathan Mautz', 'segment': 'Home Office', 'contact_number': '+1 201-346-6959', 'address': {'zip_code': 14609, 'region': 'East', 'country': 'United States', 'city': 'rochester', 'state': 'new york'}}, 'vendor': {'VendorID': 'VEN02', 'Vendor Name': 'Seaborne Ltd.'}}, 'product': {'product_id': 'TEC-PH-10004093', 'product_name': 'Panasonic Kx-TS550', 'colors': 'Blue', 'category': 'Technology', 'sub_category': 'Phones', 'date_added': '2017-01-27', 'manufacturer': 'Totes', 'sizes': '8 M,10 M,7 M,11 M,6 M,9 M', 'upc': 49129295768, 'weight': 'null', 'product_photos_qty': 3}}, {'id': 5199, 'sales_amt': 77.88, 'qty': 2, 'discount': 0.0, 'profit_amt': 3.894, 'order': {'order_id': 'CA-2016-103982', 'ship_mode': 'Standard Class', 'order_status': 'delivered', 'order_purchase_date': '2017-06-22 15:53:00', 'order_approved_at': '2017-06-22 16:05', 'order_delivered_carrier_date': '2017-06-23 12:05', 'order_delivered_customer_date': '2017-06-27 12:32', 'order_estimated_delivery_date': '2017-07-05', 'customer': {'customer_id': 'AA-10315', 'customer_name': 'Alex Avila', 'segment': 'Consumer', 'contact_number': '582-262-8228', 'address': {'zip_code': 55407, 'region': 'Central', 'country': 'United States', 'city': 'minneapolis', 'state': 'minnesota'}}, 'vendor': {'VendorID': 'VEN02', 'Vendor Name': 'Seaborne Ltd.'}}, 'product': {'product_id': 'OFF-ST-10003479', 'product_name': 'Eldon Base for stackable storage shelf, platinum', 'colors': 'Blue', 'category': 'Office Supplies', 'sub_category': 'Storage', 'date_added': '2016-01-20', 'manufacturer': 'null', 'sizes': 'null', 'upc': 'null', 'weight': 'null', 'product_photos_qty': 3}}, {'id': 7684, 'sales_amt': 95.616, 'qty': 2, 'discount': 0.2, 'profit_amt': 9.5616, 'order': {'order_id': 'CA-2015-120782', 'ship_mode': 'First Class', 'order_status': 'delivered', 'order_purchase_date': '2017-07-24 16:14:00', 'order_approved_at': '2017-07-24 16:25', 'order_delivered_carrier_date': '2017-07-24 21:24', 'order_delivered_customer_date': '2017-08-01 16:38', 'order_estimated_delivery_date': '2017-08-15', 'customer': {'customer_id': 'SD-20485', 'customer_name': 'Shirley Daniels', 'segment': 'Home Office', 'contact_number': '+1 314-627-4061', 'address': {'zip_code': 90049, 'region': 'West', 'country': 'United States', 'city': 'los angeles', 'state': 'california'}}, 'vendor': {'VendorID': 'VEN04', 'Vendor Name': 'Johnsons Logistics'}}, 'product': {'product_id': 'OFF-ST-10003282', 'product_name': 'Advantus 10-Drawer Portable Organizer, Chrome Metal Frame, Smoke Drawers', 'colors': 'Blue', 'category': 'Office Supplies', 'sub_category': 'Storage', 'date_added': '2016-03-30', 'manufacturer': 'null', 'sizes': 'null', 'upc': 'null', 'weight': 'null', 'product_photos_qty': 0}}, {'id': 9426, 'sales_amt': 45.98, 'qty': 2, 'discount': 0.0, 'profit_amt': 19.7714, 'order': {'order_id': 'CA-2014-116246', 'ship_mode': 'Second Class', 'order_status': 'delivered', 'order_purchase_date': '2017-03-14 14:29:00', 'order_approved_at': '2017-03-14 14:29', 'order_delivered_carrier_date': '2017-03-16 16:57', 'order_delivered_customer_date': '2017-03-24 08:37', 'order_estimated_delivery_date': '2017-04-06', 'customer': {'customer_id': 'LW-17215', 'customer_name': 'Luke Weiss', 'segment': 'Consumer', 'contact_number': '+1 218-320-8646', 'address': {'zip_code': 90004, 'region': 'West', 'country': 'United States', 'city': 'los angeles', 'state': 'california'}}, 'vendor': {'VendorID': 'VEN03', 'Vendor Name': 'Voyage Enterprises'}}, 'product': {'product_id': 'TEC-AC-10000171', 'product_name': 'Verbatim 25 GB 6x Blu-ray Single Layer Recordable Disc, 25/Pack', 'colors': 'Blue', 'category': 'Technology', 'sub_category': 'Accessories', 'date_added': '2016-03-21', 'manufacturer': 'null', 'sizes': 'null', 'upc': 'null', 'weight': 'null', 'product_photos_qty': 3}}, {'id': 1247, 'sales_amt': 17.46, 'qty': 2, 'discount': 0.0, 'profit_amt': 8.2062, 'order': {'order_id': 'CA-2014-168494', 'ship_mode': 'Second Class', 'order_status': 'delivered', 'order_purchase_date': '2018-03-09 20:07:00', 'order_approved_at': '2018-03-09 20:40', 'order_delivered_carrier_date': '2018-03-12 21:21', 'order_delivered_customer_date': '2018-03-16 00:32', 'order_estimated_delivery_date': '2018-03-21', 'customer': {'customer_id': 'NP-18700', 'customer_name': 'Nora Preis', 'segment': 'Consumer', 'contact_number': '+1 582-333-1447', 'address': {'zip_code': 60089, 'region': 'Central', 'country': 'United States', 'city': 'buffalo grove', 'state': 'illinois'}}, 'vendor': {'VendorID': 'VEN01', 'Vendor Name': 'Velocity Logistics'}}, 'product': {'product_id': 'OFF-BI-10003291', 'product_name': 'Wilson Jones Leather-Like Binders with DublLock Round Rings', 'colors': 'Black', 'category': 'Office Supplies', 'sub_category': 'Binders', 'date_added': '2016-11-04', 'manufacturer': 'Guess', 'sizes': '9.5', 'upc': 888000000000, 'weight': 'null', 'product_photos_qty': 1}}, {'id': 5171, 'sales_amt': 211.96, 'qty': 4, 'discount': 0.0, 'profit_amt': 8.4784, 'order': {'order_id': 'CA-2016-122903', 'ship_mode': 'Second Class', 'order_status': 'delivered', 'order_purchase_date': '2017-11-11 17:38:00', 'order_approved_at': '2017-11-11 17:51', 'order_delivered_carrier_date': '2017-11-14 22:13', 'order_delivered_customer_date': '2017-12-12 02:14', 'order_estimated_delivery_date': '2017-12-18', 'customer': {'customer_id': 'LA-16780', 'customer_name': 'Laura Armstrong', 'segment': 'Corporate', 'contact_number': '+1 305-865-1226', 'address': {'zip_code': 94122, 'region': 'West', 'country': 'United States', 'city': 'san francisco', 'state': 'california'}}, 'vendor': {'VendorID': 'VEN03', 'Vendor Name': 'Voyage Enterprises'}}, 'product': {'product_id': 'OFF-ST-10001713', 'product_name': 'Gould Plastics 9-Pocket Panel Bin, 18-3/8w x 5-1/4d x 20-1/2h, Black', 'colors': 'Black', 'category': 'Office Supplies', 'sub_category': 'Storage', 'date_added': '2017-01-12', 'manufacturer': 'null', 'sizes': '12', 'upc': 723000000000, 'weight': 'null', 'product_photos_qty': 4}}, {'id': 7584, 'sales_amt': 45.0, 'qty': 3, 'discount': 0.0, 'profit_amt': 4.95, 'order': {'order_id': 'CA-2014-163223', 'ship_mode': 'Standard Class', 'order_status': 'delivered', 'order_purchase_date': '2017-07-05 13:40:00', 'order_approved_at': '2017-07-05 17:36', 'order_delivered_carrier_date': '2017-07-06 14:42', 'order_delivered_customer_date': '2017-07-17 19:23', 'order_estimated_delivery_date': '2017-07-27', 'customer': {'customer_id': 'KH-16690', 'customer_name': 'Kristen Hastings', 'segment': 'Corporate', 'contact_number': '+1 408-539-4642', 'address': {'zip_code': 71203, 'region': 'South', 'country': 'United States', 'city': 'monroe', 'state': 'louisiana'}}, 'vendor': {'VendorID': 'VEN04', 'Vendor Name': 'Johnsons Logistics'}}, 'product': {'product_id': 'TEC-AC-10002167', 'product_name': 'Imation\\xa08gb Micro Traveldrive Usb 2.0\\xa0Flash Drive', 'colors': 'Pink', 'category': 'Technology', 'sub_category': 'Accessories', 'date_added': '2016-10-05', 'manufacturer': 'Michael Kors', 'sizes': 'null', 'upc': 889000000000, 'weight': 'null', 'product_photos_qty': 4}}, {'id': 9650, 'sales_amt': 21.8, 'qty': 2, 'discount': 0.0, 'profit_amt': 6.104, 'order': {'order_id': 'CA-2016-107104', 'ship_mode': 'Standard Class', 'order_status': 'delivered', 'order_purchase_date': '2018-01-22 10:10:00', 'order_approved_at': '2018-01-22 14:15', 'order_delivered_carrier_date': '2018-01-23 22:29', 'order_delivered_customer_date': '2018-02-14 22:51', 'order_estimated_delivery_date': '2018-02-15', 'customer': {'customer_id': 'MS-17365', 'customer_name': 'Maribeth Schnelling', 'segment': 'Consumer', 'contact_number': '+1 582-222-2985', 'address': {'zip_code': 37604, 'region': 'South', 'country': 'United States', 'city': 'johnson city', 'state': 'tennessee'}}, 'vendor': {'VendorID': 'VEN01', 'Vendor Name': 'Velocity Logistics'}}, 'product': {'product_id': 'TEC-PH-10003988', 'product_name': 'LF Elite 3D Dazzle Designer Hard Case Cover, Lf Stylus Pen and Wiper For Apple Iphone 5c Mini Lite', 'colors': 'Blue', 'category': 'Technology', 'sub_category': 'Phones', 'date_added': '2017-01-17', 'manufacturer': 'FitFlop', 'sizes': 'null', 'upc': 884000000000, 'weight': 'null', 'product_photos_qty': 3}}, {'id': 7915, 'sales_amt': 38.22, 'qty': 6, 'discount': 0.0, 'profit_amt': 17.9634, 'order': {'order_id': 'CA-2017-165323', 'ship_mode': 'Standard Class', 'order_status': 'delivered', 'order_purchase_date': '2017-04-11 16:21:00', 'order_approved_at': '2017-04-12 16:25', 'order_delivered_carrier_date': '2017-04-13 10:41', 'order_delivered_customer_date': '2017-05-06 10:37', 'order_estimated_delivery_date': '2017-05-11', 'customer': {'customer_id': 'SR-20740', 'customer_name': 'Steven Roelle', 'segment': 'Home Office', 'contact_number': '05056447356', 'address': {'zip_code': 77642, 'region': 'Central', 'country': 'United States', 'city': 'port arthur', 'state': 'texas'}}, 'vendor': {'VendorID': 'VEN04', 'Vendor Name': 'Johnsons Logistics'}}, 'product': {'product_id': 'OFF-BI-10004410', 'product_name': 'C-Line Peel & Stick Add-On Filing Pockets, 8-3/4 x 5-1/8, 10/Pack', 'colors': 'Blue', 'category': 'Office Supplies', 'sub_category': 'Binders', 'date_added': '2016-11-10', 'manufacturer': 'null', 'sizes': 'null', 'upc': 829000000000, 'weight': 'null', 'product_photos_qty': 0}}, {'id': 9858, 'sales_amt': 75.18, 'qty': 6, 'discount': 0.0, 'profit_amt': 35.3346, 'order': {'order_id': 'CA-2015-164301', 'ship_mode': 'Standard Class', 'order_status': 'delivered', 'order_purchase_date': '2018-08-04 16:19:00', 'order_approved_at': '2018-08-04 16:35', 'order_delivered_carrier_date': '2018-08-07 14:44', 'order_delivered_customer_date': '2018-08-11 15:38', 'order_estimated_delivery_date': '2018-08-22', 'customer': {'customer_id': 'EB-13840', 'customer_name': 'Ellis Ballard', 'segment': 'Corporate', 'contact_number': '+1 210-400-2831', 'address': {'zip_code': 10035, 'region': 'East', 'country': 'United States', 'city': 'new york city', 'state': 'new york'}}, 'vendor': {'VendorID': 'VEN01', 'Vendor Name': 'Velocity Logistics'}}, 'product': {'product_id': 'OFF-LA-10002762', 'product_name': 'Avery 485', 'colors': 'Blue', 'category': 'Office Supplies', 'sub_category': 'Labels', 'date_added': '2016-03-24', 'manufacturer': 'null', 'sizes': 'null', 'upc': 884000000000, 'weight': 'null', 'product_photos_qty': 0}}, {'id': 3274, 'sales_amt': 6.16, 'qty': 2, 'discount': 0.0, 'profit_amt': 2.9568, 'order': {'order_id': 'CA-2017-133865', 'ship_mode': 'Standard Class', 'order_status': 'shipped', 'order_purchase_date': '2017-08-11 17:40:00', 'order_approved_at': '2017-08-11 17:55', 'order_delivered_carrier_date': '2017-08-14 18:22', 'order_delivered_customer_date': 'null', 'order_estimated_delivery_date': '2017-09-13', 'customer': {'customer_id': 'PS-19045', 'customer_name': 'Penelope Sewall', 'segment': 'Home Office', 'contact_number': '205 891 5526', 'address': {'zip_code': 7501, 'region': 'East', 'country': 'United States', 'city': 'paterson', 'state': 'new jersey'}}, 'vendor': {'VendorID': 'VEN01', 'Vendor Name': 'Velocity Logistics'}}, 'product': {'product_id': 'FUR-FU-10001706', 'product_name': 'Longer-Life Soft White Bulbs', 'colors': 'Blue', 'category': 'Furniture', 'sub_category': 'Furnishings', 'date_added': '2016-11-15', 'manufacturer': 'Brianna Leigh', 'sizes': '5.5,10,9.5,5,7.5,9', 'upc': 'null', 'weight': 'null', 'product_photos_qty': 0}}, {'id': 8101, 'sales_amt': 89.99, 'qty': 1, 'discount': 0.0, 'profit_amt': 17.0981, 'order': {'order_id': 'CA-2016-169663', 'ship_mode': 'First Class', 'order_status': 'delivered', 'order_purchase_date': '2018-06-15 13:08:00', 'order_approved_at': '2018-06-15 13:44', 'order_delivered_carrier_date': '2018-06-19 14:12', 'order_delivered_customer_date': '2018-06-21 20:05', 'order_estimated_delivery_date': '2018-07-05', 'customer': {'customer_id': 'RH-19510', 'customer_name': 'Rick Huthwaite', 'segment': 'Home Office', 'contact_number': '582 262 4172', 'address': {'zip_code': 85234, 'region': 'West', 'country': 'United States', 'city': 'gilbert', 'state': 'arizona'}}, 'vendor': {'VendorID': 'VEN04', 'Vendor Name': 'Johnsons Logistics'}}, 'product': {'product_id': 'FUR-CH-10003061', 'product_name': 'Global Leather Task Chair, Black', 'colors': 'Blue', 'category': 'Furniture', 'sub_category': 'Chairs', 'date_added': '2017-01-22', 'manufacturer': 'null', 'sizes': 'null', 'upc': 33977171008, 'weight': 'null', 'product_photos_qty': 4}}, {'id': 252, 'sales_amt': 15.26, 'qty': 7, 'discount': 0.0, 'profit_amt': 6.2566, 'order': {'order_id': 'CA-2016-145625', 'ship_mode': 'Standard Class', 'order_status': 'delivered', 'order_purchase_date': '2018-03-27 22:07:00', 'order_approved_at': '2018-03-27 22:15', 'order_delivered_carrier_date': '2018-04-02 14:34', 'order_delivered_customer_date': '2018-04-06 18:43', 'order_estimated_delivery_date': '2018-04-13', 'customer': {'customer_id': 'KC-16540', 'customer_name': 'Kelly Collister', 'segment': 'Consumer', 'contact_number': '+1 582-333-6683', 'address': {'zip_code': 95695, 'region': 'West', 'country': 'United States', 'city': 'woodland', 'state': 'california'}}, 'vendor': {'VendorID': 'VEN01', 'Vendor Name': 'Velocity Logistics'}}, 'product': {'product_id': 'OFF-FA-10000304', 'product_name': 'Advantus Push Pins', 'colors': 'Blue', 'category': 'Office Supplies', 'sub_category': 'Fasteners', 'date_added': '2016-04-14', 'manufacturer': 'null', 'sizes': 'null', 'upc': 890000000000, 'weight': 'null', 'product_photos_qty': 0}}, {'id': 6818, 'sales_amt': 1029.95, 'qty': 5, 'discount': 0.0, 'profit_amt': 298.6855, 'order': {'order_id': 'CA-2014-144414', 'ship_mode': 'Standard Class', 'order_status': 'delivered', 'order_purchase_date': '2018-02-21 14:37:00', 'order_approved_at': '2018-02-21 14:55', 'order_delivered_carrier_date': '2018-02-24 13:23', 'order_delivered_customer_date': '2018-02-28 18:39', 'order_estimated_delivery_date': '2018-03-07', 'customer': {'customer_id': 'GH-14425', 'customer_name': 'Gary Hwang', 'segment': 'Consumer', 'contact_number': '+1 404-726-5433', 'address': {'zip_code': 90004, 'region': 'West', 'country': 'United States', 'city': 'los angeles', 'state': 'california'}}, 'vendor': {'VendorID': 'VEN04', 'Vendor Name': 'Johnsons Logistics'}}, 'product': {'product_id': 'TEC-PH-10002447', 'product_name': 'AT&T CL83451 4-Handset Telephone', 'colors': 'Blue', 'category': 'Technology', 'sub_category': 'Phones', 'date_added': '2015-11-09', 'manufacturer': 'LeDonne Leather', 'sizes': 'null', 'upc': 700000000000, 'weight': '1.0 lbs', 'product_photos_qty': 4}}, {'id': 1645, 'sales_amt': 208.56, 'qty': 6, 'discount': 0.0, 'profit_amt': 52.14, 'order': {'order_id': 'CA-2015-111829', 'ship_mode': 'First Class', 'order_status': 'delivered', 'order_purchase_date': '2017-10-31 14:30:00', 'order_approved_at': '2017-10-31 15:31', 'order_delivered_carrier_date': '2017-11-07 20:03', 'order_delivered_customer_date': '2017-11-16 22:36', 'order_estimated_delivery_date': '2017-11-24', 'customer': {'customer_id': 'FH-14365', 'customer_name': 'Fred Hopkins', 'segment': 'Corporate', 'contact_number': '+1 414-734-9649', 'address': {'zip_code': 10035, 'region': 'East', 'country': 'United States', 'city': 'new york city', 'state': 'new york'}}, 'vendor': {'VendorID': 'VEN04', 'Vendor Name': 'Johnsons Logistics'}}, 'product': {'product_id': 'OFF-ST-10000604', 'product_name': 'Home/Office Personal File Carts', 'colors': 'Blue', 'category': 'Office Supplies', 'sub_category': 'Storage', 'date_added': '2016-11-07', 'manufacturer': 'Caparros', 'sizes': '8', 'upc': 'null', 'weight': 'null', 'product_photos_qty': 0}}, {'id': 28, 'sales_amt': 32.4, 'qty': 5, 'discount': 0.0, 'profit_amt': 15.552, 'order': {'order_id': 'US-2015-150630', 'ship_mode': 'Standard Class', 'order_status': 'delivered', 'order_purchase_date': '2018-08-05 19:41:00', 'order_approved_at': '2018-08-05 19:50', 'order_delivered_carrier_date': '2018-08-06 11:59', 'order_delivered_customer_date': '2018-08-09 21:36', 'order_estimated_delivery_date': '2018-08-22', 'customer': {'customer_id': 'TB-21520', 'customer_name': 'Tracy Blumstein', 'segment': 'Consumer', 'contact_number': '+1 213-932-4028', 'address': {'zip_code': 37167, 'region': 'South', 'country': 'United States', 'city': 'smyrna', 'state': 'tennessee'}}, 'vendor': {'VendorID': 'VEN02', 'Vendor Name': 'Seaborne Ltd.'}}, 'product': {'product_id': 'OFF-PA-10001569', 'product_name': 'Xerox 232', 'colors': 'Black', 'category': 'Office Supplies', 'sub_category': 'Paper', 'date_added': '2016-03-04', 'manufacturer': 'null', 'sizes': 'null', 'upc': 'null', 'weight': 'null', 'product_photos_qty': 0}}, {'id': 4094, 'sales_amt': 319.41, 'qty': 5, 'discount': 0.1, 'profit_amt': 7.098, 'order': {'order_id': 'CA-2015-102491', 'ship_mode': 'Standard Class', 'order_status': 'delivered', 'order_purchase_date': '2017-02-04 14:16:00', 'order_approved_at': '2017-02-04 14:25', 'order_delivered_carrier_date': '2017-02-06 10:32', 'order_delivered_customer_date': '2017-03-02 10:27', 'order_estimated_delivery_date': '2017-03-03', 'customer': {'customer_id': 'KW-16435', 'customer_name': 'Katrina Willman', 'segment': 'Consumer', 'contact_number': '+1 207-741-8729', 'address': {'zip_code': 40475, 'region': 'South', 'country': 'United States', 'city': 'richmond', 'state': 'kentucky'}}, 'vendor': {'VendorID': 'VEN02', 'Vendor Name': 'Seaborne Ltd.'}}, 'product': {'product_id': 'FUR-CH-10003968', 'product_name': 'Novimex Turbo Task Chair', 'colors': 'Black', 'category': 'Furniture', 'sub_category': 'Chairs', 'date_added': '2017-01-09', 'manufacturer': 'Quiksilver', 'sizes': 'null', 'upc': 888000000000, 'weight': 'null', 'product_photos_qty': 0}}, {'id': 263, 'sales_amt': 14.56, 'qty': 2, 'discount': 0.0, 'profit_amt': 6.9888, 'order': {'order_id': 'US-2014-106992', 'ship_mode': 'Second Class', 'order_status': 'delivered', 'order_purchase_date': '2017-08-05 11:51:00', 'order_approved_at': '2017-08-08 04:15', 'order_delivered_carrier_date': '2017-08-09 12:06', 'order_delivered_customer_date': '2017-08-11 21:33', 'order_estimated_delivery_date': '2017-08-23', 'customer': {'customer_id': 'SB-20290', 'customer_name': 'Sean Braxton', 'segment': 'Corporate', 'contact_number': '+1 305-323-1882', 'address': {'zip_code': 48227, 'region': 'Central', 'country': 'United States', 'city': 'detroit', 'state': 'michigan'}}, 'vendor': {'VendorID': 'VEN04', 'Vendor Name': 'Johnsons Logistics'}}, 'product': {'product_id': 'OFF-PA-10000587', 'product_name': 'Array Parchment Paper, Assorted Colors', 'colors': 'Black', 'category': 'Office Supplies', 'sub_category': 'Paper', 'date_added': '2017-01-12', 'manufacturer': 'Saucony', 'sizes': 'null', 'upc': 44214051465, 'weight': 'null', 'product_photos_qty': 0}}], 'count': 9819, 'limit': 30, 'next': '/mentorskool/v1/sales?offset=60&limit=30', 'previous': '/mentorskool/v1/sales?offset=0&limit=30'}\n"
     ]
    }
   ],
   "source": [
    "print(response.json())"
   ]
  },
  {
   "cell_type": "code",
   "execution_count": null,
   "id": "2cf74155",
   "metadata": {},
   "outputs": [],
   "source": []
  }
 ],
 "metadata": {
  "kernelspec": {
   "display_name": "Python 3 (ipykernel)",
   "language": "python",
   "name": "python3"
  },
  "language_info": {
   "codemirror_mode": {
    "name": "ipython",
    "version": 3
   },
   "file_extension": ".py",
   "mimetype": "text/x-python",
   "name": "python",
   "nbconvert_exporter": "python",
   "pygments_lexer": "ipython3",
   "version": "3.10.9"
  }
 },
 "nbformat": 4,
 "nbformat_minor": 5
}
